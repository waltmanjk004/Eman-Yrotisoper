{
 "cells": [
  {
   "cell_type": "markdown",
   "metadata": {},
   "source": [
    "# GeoJSON\n",
    "\n",
    "A standard for representing geographic features in JavaScript Object Notation (JSON).\n",
    "\n",
    "\n",
    "For more background on this section see this blog post:\n",
    "https://dzone.com/articles/enriching-geojson-data-to-render-a-map-of-smart-ci"
   ]
  },
  {
   "cell_type": "code",
   "execution_count": null,
   "metadata": {},
   "outputs": [],
   "source": [
    "import json\n",
    "import base64\n",
    "import requests\n",
    "\n",
    "def get_client_token():\n",
    "    uri = 'https://auth.aa.cityiq.io/oauth/token'\n",
    "    credentials = base64.b64encode(b'PublicAccess:uVeeMuiue4k=').decode('ascii')\n",
    "    headers = {\n",
    "        'Content-Type': 'application/x-www-form-urlencoded',\n",
    "        'Cache-Control': 'no-cache',\n",
    "        'Authorization': 'Basic ' + credentials\n",
    "    }\n",
    "    \n",
    "    params = {\n",
    "        'grant_type': 'client_credentials'\n",
    "    }\n",
    "    response = requests.post(uri, headers=headers, params=params)\n",
    "    return json.loads(response.text)['access_token']"
   ]
  },
  {
   "cell_type": "code",
   "execution_count": null,
   "metadata": {},
   "outputs": [],
   "source": [
    "token = get_client_token()\n",
    "token"
   ]
  },
  {
   "cell_type": "code",
   "execution_count": null,
   "metadata": {},
   "outputs": [],
   "source": [
    "def get_assets(token):\n",
    "    uri = 'https://sandiego.cityiq.io/api/v2/metadata/assets/search'\n",
    "    headers = {\n",
    "       'Content-Type': 'application/x-www-form-urlencoded',\n",
    "       'Predix-Zone-Id': 'SD-IE-TRAFFIC',\n",
    "       'Authorization': 'Bearer ' + token\n",
    "       }\n",
    "    # Bounding Box for San Diego Camera locations because these are the\n",
    "    # nodes that have traffic, parking and pedestrian data\n",
    "    params = {\n",
    "            'bbox': '33.077762:-117.663817,32.559574:-116.584410',\n",
    "            'page': 0,\n",
    "            'size': 200,\n",
    "            'q': 'assetType:CAMERA'\n",
    "            }\n",
    "    response = requests.get(uri, headers=headers, params=params)\n",
    "    return response.json()"
   ]
  },
  {
   "cell_type": "code",
   "execution_count": null,
   "metadata": {},
   "outputs": [],
   "source": [
    "token = get_client_token()\n",
    "assets = get_assets(token)\n",
    "assets"
   ]
  },
  {
   "cell_type": "code",
   "execution_count": null,
   "metadata": {},
   "outputs": [],
   "source": [
    "import geojson\n",
    "\n",
    "def get_features(assets):\n",
    "    collection = []\n",
    "    for asset in assets['content']:\n",
    "        coords = asset['coordinates']\n",
    "        lat,lon = coords.split(':')\n",
    "        \n",
    "        point = geojson.Point(coordinates=(float(lon), float(lat)))\n",
    "        feature = geojson.Feature(geometry=point, properties=asset)\n",
    "        collection.append(feature)\n",
    "        \n",
    "    return collection"
   ]
  },
  {
   "cell_type": "code",
   "execution_count": null,
   "metadata": {},
   "outputs": [],
   "source": [
    "collection = get_features(assets)\n",
    "data = geojson.FeatureCollection(collection)\n",
    "data"
   ]
  },
  {
   "cell_type": "code",
   "execution_count": null,
   "metadata": {},
   "outputs": [],
   "source": [
    "with open('city.geojson', 'w') as output:\n",
    "    geojson.dump(data, output)"
   ]
  },
  {
   "cell_type": "markdown",
   "metadata": {},
   "source": [
    "# Try It\n",
    "\n",
    "With a GeoJSON data file like this there are a number of online viewers.  Try to create GeoJSON of some features relevant to you and upload to:\n",
    "\n",
    "- https://geojson.tools\n",
    "- https://here.xyz\n",
    "\n"
   ]
  }
 ],
 "metadata": {
  "kernelspec": {
   "display_name": "Python 3",
   "language": "python",
   "name": "python3"
  },
  "language_info": {
   "codemirror_mode": {
    "name": "ipython",
    "version": 3
   },
   "file_extension": ".py",
   "mimetype": "text/x-python",
   "name": "python",
   "nbconvert_exporter": "python",
   "pygments_lexer": "ipython3",
   "version": "3.7.0"
  }
 },
 "nbformat": 4,
 "nbformat_minor": 2
}
